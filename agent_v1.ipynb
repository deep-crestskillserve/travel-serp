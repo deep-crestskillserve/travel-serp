{
 "cells": [
  {
   "cell_type": "code",
   "execution_count": null,
   "id": "cb03161c",
   "metadata": {},
   "outputs": [],
   "source": [
    "from langchain_core.messages import AIMessage, HumanMessage, SystemMessage\n",
    "from typing import Annotated, TypedDict, List, Any, Optional\n",
    "from langchain_google_genai import ChatGoogleGenerativeAI\n",
    "from langgraph.checkpoint.memory import MemorySaver\n",
    "from langgraph.graph.message import add_messages\n",
    "from langgraph.graph import END, StateGraph\n",
    "from pydantic import BaseModel, Field\n",
    "from dotenv import load_dotenv\n",
    "from IPython.display import Image, display\n",
    "import gradio as gr\n",
    "import asyncio\n",
    "import uuid\n",
    "import os"
   ]
  },
  {
   "cell_type": "code",
   "execution_count": 3,
   "id": "d051086c",
   "metadata": {},
   "outputs": [],
   "source": [
    "load_dotenv(override=True)\n",
    "google_api_key = os.getenv(\"GOOGLE_API_KEY\")\n",
    "if not google_api_key:\n",
    "    raise ValueError(\"GOOGLE_API_KEY not found in .env file\")"
   ]
  },
  {
   "cell_type": "code",
   "execution_count": 4,
   "id": "b980fd0d",
   "metadata": {},
   "outputs": [],
   "source": [
    "llm_1 = ChatGoogleGenerativeAI(model=\"gemini-1.5-flash\", google_api_key=google_api_key)\n",
    "llm_2 = ChatGoogleGenerativeAI(model=\"gemini-1.5-flash\", google_api_key=google_api_key)"
   ]
  },
  {
   "cell_type": "code",
   "execution_count": 5,
   "id": "6fa0eb3e",
   "metadata": {},
   "outputs": [],
   "source": [
    "class EvaluatorOutput(BaseModel):\n",
    "    feedback: str = Field(description=\"Feedback on the assistant's response\")\n",
    "    success_criteria_met: bool = Field(description=\"Whether the success criteria have been met\")\n",
    "    user_input_needed: bool = Field(description=\"True if more input is needed from the user, or clarifications, or the assistant is stuck\")"
   ]
  },
  {
   "cell_type": "code",
   "execution_count": 6,
   "id": "2c2e7834",
   "metadata": {},
   "outputs": [],
   "source": [
    "class State(TypedDict):\n",
    "    messages: Annotated[List[Any], add_messages]\n",
    "    success_criteria: str\n",
    "    feedback_on_work: Optional[str]\n",
    "    success_criteria_met: bool\n",
    "    user_input_needed: bool\n",
    "    iteration_count: int"
   ]
  },
  {
   "cell_type": "code",
   "execution_count": 7,
   "id": "da69ad3e",
   "metadata": {},
   "outputs": [],
   "source": [
    "worker_llm = llm_1\n",
    "evaluator_llm = llm_2\n",
    "evaluator_llm_with_output = evaluator_llm.with_structured_output(EvaluatorOutput)"
   ]
  },
  {
   "cell_type": "code",
   "execution_count": 8,
   "id": "ae02d1a2",
   "metadata": {},
   "outputs": [],
   "source": [
    "# Worker node to extract flight details\n",
    "def worker(state: State) -> dict:\n",
    "    system_message = f\"\"\"You are a helpful travel assistant that extracts flight details from user queries.\n",
    "    You keep working on extracting details until either you have a question or clarification for the user, or all required details are obtained.\n",
    "    Required details: departure city, arrival city, departure date.\n",
    "    Optional: return date, number of passengers, travel class, additional notes.\n",
    "    This is the success criteria:\n",
    "    {state['success_criteria']}\n",
    "    You should reply either with a question for the user, or with your final response listing the details.\n",
    "    If you have a question, reply by clearly stating 'Question: [your question]'.\n",
    "    If you've finished, reply with a confirmation message listing all details, e.g., 'Here are the flight details: Departure from [city], Arrival at [city], on [date].'\"\"\"\n",
    "    \n",
    "    if state.get(\"feedback_on_work\"):\n",
    "        system_message += f\"\"\"\n",
    "    Previously you thought you completed the task, but it was rejected because the success criteria was not met.\n",
    "    Here is the feedback:\n",
    "    {state['feedback_on_work']}\n",
    "    With this feedback, continue, ensuring you meet the criteria or ask a question.\"\"\"\n",
    "    \n",
    "    found_system_message = False\n",
    "    messages = state[\"messages\"]\n",
    "    for message in messages:\n",
    "        if isinstance(message, SystemMessage):\n",
    "            message.content = system_message\n",
    "            found_system_message = True\n",
    "    \n",
    "    if not found_system_message:\n",
    "        messages = [SystemMessage(content=system_message)] + messages\n",
    "    \n",
    "    response = worker_llm.invoke(messages)\n",
    "    \n",
    "    return {\n",
    "        \"messages\": [response],\n",
    "    }"
   ]
  },
  {
   "cell_type": "code",
   "execution_count": 9,
   "id": "dea29049",
   "metadata": {},
   "outputs": [],
   "source": [
    "def format_conversation(messages: List[Any]) -> str:\n",
    "    conversation = \"Conversation history:\\n\\n\"\n",
    "    for message in messages:\n",
    "        if isinstance(message, HumanMessage):\n",
    "            conversation += f\"User: {message.content}\\n\"\n",
    "        elif isinstance(message, AIMessage):\n",
    "            text = message.content or \"[No content]\"\n",
    "            conversation += f\"Assistant: {text}\\n\"\n",
    "    return conversation"
   ]
  },
  {
   "cell_type": "code",
   "execution_count": 10,
   "id": "9f64cb14",
   "metadata": {},
   "outputs": [],
   "source": [
    "def evaluator(state: State) -> dict:\n",
    "    last_response = state[\"messages\"][-1].content\n",
    "\n",
    "    system_message = \"\"\"You are an evaluator that determines if a task has been completed successfully by an Assistant.\n",
    "    Assess the Assistant's last response based on the given criteria. Respond with your feedback, and with your decision on whether the success criteria has been met,\n",
    "    and whether more input is needed from the user.\"\"\"\n",
    "    \n",
    "    user_message = f\"\"\"You are evaluating a conversation between the User and Assistant. You decide what action to take based on the last response from the Assistant.\n",
    "\n",
    "    The entire conversation with the assistant, with the user's original request and all replies, is:\n",
    "    {format_conversation(state['messages'])}\n",
    "\n",
    "    The success criteria for this assignment is:\n",
    "    {state['success_criteria']}\n",
    "\n",
    "    And the final response from the Assistant that you are evaluating is:\n",
    "    {last_response}\n",
    "\n",
    "    Respond with your feedback, and decide if the success criteria is met by this response.\n",
    "    Also, decide if more user input is required, either because the assistant has a question, needs clarification, or seems to be stuck and unable to answer without help.\n",
    "    \"\"\"\n",
    "    if state[\"feedback_on_work\"]:\n",
    "        user_message += f\"Also, note that in a prior attempt from the Assistant, you provided this feedback: {state['feedback_on_work']}\\n\"\n",
    "        user_message += \"If you're seeing the Assistant repeating the same mistakes, then consider responding that user input is required.\"\n",
    "    \n",
    "    evaluator_messages = [SystemMessage(content=system_message), HumanMessage(content=user_message)]\n",
    "\n",
    "    eval_result = evaluator_llm_with_output.invoke(evaluator_messages)\n",
    "    new_state = {\n",
    "        \"messages\": [AIMessage(content=f\"Evaluator Feedback on this answer: {eval_result.feedback}\")],\n",
    "        \"feedback_on_work\": eval_result.feedback,\n",
    "        \"success_criteria_met\": eval_result.success_criteria_met,\n",
    "        \"user_input_needed\": eval_result.user_input_needed,\n",
    "        \"iteration_count\": state['iteration_count'] + 1\n",
    "    }\n",
    "    return new_state"
   ]
  },
  {
   "cell_type": "code",
   "execution_count": 11,
   "id": "d19a83e5",
   "metadata": {},
   "outputs": [],
   "source": [
    "def route_based_on_evaluation(state: State) -> str:\n",
    "    if state[\"iteration_count\"] >= 5 or state[\"success_criteria_met\"] or state[\"user_input_needed\"]:\n",
    "        return END\n",
    "    else:\n",
    "        return \"worker\""
   ]
  },
  {
   "cell_type": "code",
   "execution_count": 12,
   "id": "b0a9dadf",
   "metadata": {},
   "outputs": [],
   "source": [
    "FIXED_SUCCESS_CRITERIA = (\n",
    "    \"The assistant must obtain and confirm the following required flight details from the user: \"\n",
    "    \"departure city, arrival city, departure date. Optional details include return date, \"\n",
    "    \"number of passengers, travel class, and any additional notes. The final response should \"\n",
    "    \"clearly list all obtained details in a confirmatory message.\"\n",
    ")"
   ]
  },
  {
   "cell_type": "code",
   "execution_count": 13,
   "id": "28393126",
   "metadata": {},
   "outputs": [],
   "source": [
    "graph_builder = StateGraph(State)\n",
    "graph_builder.add_node(\"worker\", worker)\n",
    "graph_builder.add_node(\"evaluator\", evaluator)\n",
    "graph_builder.add_edge(\"worker\", \"evaluator\")\n",
    "graph_builder.add_conditional_edges(\"evaluator\", route_based_on_evaluation, {\"END\": END, \"worker\": \"worker\"})\n",
    "graph_builder.set_entry_point(\"worker\")\n",
    "checkpointer = MemorySaver()\n",
    "graph = graph_builder.compile(checkpointer=checkpointer)"
   ]
  },
  {
   "cell_type": "code",
   "execution_count": 14,
   "id": "e653401a",
   "metadata": {},
   "outputs": [
    {
     "data": {
      "image/png": "[encoded data removed]",
      "text/plain": [
       "<IPython.core.display.Image object>"
      ]
     },
     "metadata": {},
     "output_type": "display_data"
    }
   ],
   "source": [
    "display(Image(graph.get_graph().draw_mermaid_png()))"
   ]
  },
  {
   "cell_type": "code",
   "execution_count": 15,
   "id": "f503b4ff",
   "metadata": {},
   "outputs": [],
   "source": [
    "async def process_message(message: str, history: list, thread: str) -> tuple[list, str]:\n",
    "    if not message:\n",
    "        history.append({\"role\": \"assistant\", \"content\": \"Please enter a flight query.\"})\n",
    "        return history, thread\n",
    "    \n",
    "    try:\n",
    "        async with asyncio.timeout(30):  # 30s timeout for LLM calls\n",
    "            config = {\"configurable\": {\"thread_id\": thread}}\n",
    "            input_state = {\n",
    "                \"messages\": [HumanMessage(content=message)],\n",
    "                \"success_criteria\": FIXED_SUCCESS_CRITERIA,\n",
    "                \"feedback_on_work\": None,\n",
    "                \"success_criteria_met\": False,\n",
    "                \"user_input_needed\": False,\n",
    "                \"iteration_count\": 0\n",
    "            }\n",
    "            result = await graph.ainvoke(input_state, config=config)\n",
    "            user_msg = {\"role\": \"user\", \"content\": message}\n",
    "            reply = {\"role\": \"assistant\", \"content\": result[\"messages\"][-2].content}\n",
    "            feedback = {\"role\": \"assistant\", \"content\": result[\"messages\"][-1].content}\n",
    "            return history + [user_msg, reply, feedback], thread\n",
    "    except asyncio.TimeoutError:\n",
    "        history.append({\"role\": \"assistant\", \"content\": \"Processing timed out. Please try a simpler query or check your connection.\"})\n",
    "        return history, thread\n",
    "    except Exception as e:\n",
    "        history.append({\"role\": \"assistant\", \"content\": f\"Error: {str(e)}\"})\n",
    "        return history, thread"
   ]
  },
  {
   "cell_type": "code",
   "execution_count": 16,
   "id": "550036ea",
   "metadata": {},
   "outputs": [],
   "source": [
    "async def reset() -> tuple[str, list, str]:\n",
    "    return \"\", [], str(uuid.uuid4())"
   ]
  },
  {
   "cell_type": "code",
   "execution_count": 17,
   "id": "f145bad4",
   "metadata": {},
   "outputs": [],
   "source": [
    "with gr.Blocks(theme=gr.themes.Default(primary_hue=\"blue\")) as demo:\n",
    "    gr.Markdown(\"## Travel Chatbot\")\n",
    "    thread = gr.State(value=str(uuid.uuid4()))\n",
    "    with gr.Row():\n",
    "        chatbot = gr.Chatbot(label=\"Travel Assistant\", height=400, type=\"messages\")\n",
    "    with gr.Group():\n",
    "        with gr.Row():\n",
    "            message = gr.Textbox(show_label=False, placeholder=\"Enter your flight query (e.g., 'I want to fly from NYC to LA')\")\n",
    "    with gr.Row():\n",
    "        reset_button = gr.Button(\"Reset\", variant=\"stop\")\n",
    "        go_button = gr.Button(\"Go!\", variant=\"primary\")\n",
    "    message.submit(process_message, [message, chatbot, thread], [chatbot, thread])\n",
    "    go_button.click(process_message, [message, chatbot, thread], [chatbot, thread])\n",
    "    reset_button.click(reset, [], [message, chatbot, thread])"
   ]
  },
  {
   "cell_type": "code",
   "execution_count": 18,
   "id": "cda50c84",
   "metadata": {},
   "outputs": [
    {
     "name": "stdout",
     "output_type": "stream",
     "text": [
      "* Running on local URL:  http://127.0.0.1:7861\n",
      "* To create a public link, set `share=True` in `launch()`.\n"
     ]
    },
    {
     "data": {
      "text/html": [
       "<div><iframe src=\"http://127.0.0.1:7861/\" width=\"100%\" height=\"500\" allow=\"autoplay; camera; microphone; clipboard-read; clipboard-write;\" frameborder=\"0\" allowfullscreen></iframe></div>"
      ],
      "text/plain": [
       "<IPython.core.display.HTML object>"
      ]
     },
     "metadata": {},
     "output_type": "display_data"
    }
   ],
   "source": [
    "if __name__ == \"__main__\":\n",
    "    demo.launch()"
   ]
  },
  {
   "cell_type": "code",
   "execution_count": null,
   "id": "2c0400e8",
   "metadata": {},
   "outputs": [],
   "source": []
  }
 ],
 "metadata": {
  "kernelspec": {
   "display_name": "ai-travel-agent",
   "language": "python",
   "name": "python3"
  },
  "language_info": {
   "codemirror_mode": {
    "name": "ipython",
    "version": 3
   },
   "file_extension": ".py",
   "mimetype": "text/x-python",
   "name": "python",
   "nbconvert_exporter": "python",
   "pygments_lexer": "ipython3",
   "version": "3.11.12"
  }
 },
 "nbformat": 4,
 "nbformat_minor": 5
}
